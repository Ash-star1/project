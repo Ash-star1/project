{
  "nbformat": 4,
  "nbformat_minor": 0,
  "metadata": {
    "colab": {
      "name": "Image Classification Using CNN",
      "provenance": [],
      "collapsed_sections": [],
      "authorship_tag": "ABX9TyMX5/K/2X19AleDOo/6z3ra",
      "include_colab_link": true
    },
    "kernelspec": {
      "name": "python3",
      "display_name": "Python 3"
    }
  },
  "cells": [
    {
      "cell_type": "markdown",
      "metadata": {
        "id": "view-in-github",
        "colab_type": "text"
      },
      "source": [
        "<a href=\"https://colab.research.google.com/github/Ash-star1/project/blob/main/Image_Classification_Using_CNN.ipynb\" target=\"_parent\"><img src=\"https://colab.research.google.com/assets/colab-badge.svg\" alt=\"Open In Colab\"/></a>"
      ]
    },
    {
      "cell_type": "code",
      "metadata": {
        "id": "bW2fnDAGW47v"
      },
      "source": [
        "import numpy as np\n",
        "import pandas as pd\n",
        "import matplotlib as mpl\n",
        "import matplotlib.pyplot as plt\n"
      ],
      "execution_count": null,
      "outputs": []
    },
    {
      "cell_type": "code",
      "metadata": {
        "id": "S7GeS08We1u5"
      },
      "source": [
        "import tensorflow as tf\n",
        "from tensorflow import keras"
      ],
      "execution_count": null,
      "outputs": []
    },
    {
      "cell_type": "code",
      "metadata": {
        "id": "YQq7pfeCe8VO",
        "colab": {
          "base_uri": "https://localhost:8080/"
        },
        "outputId": "da1c4a01-1274-41db-8ced-8af7587e06f4"
      },
      "source": [
        "tf.keras.datasets.fashion_mnist.load_data()"
      ],
      "execution_count": null,
      "outputs": [
        {
          "output_type": "stream",
          "name": "stdout",
          "text": [
            "Downloading data from https://storage.googleapis.com/tensorflow/tf-keras-datasets/train-labels-idx1-ubyte.gz\n",
            "32768/29515 [=================================] - 0s 0us/step\n",
            "40960/29515 [=========================================] - 0s 0us/step\n",
            "Downloading data from https://storage.googleapis.com/tensorflow/tf-keras-datasets/train-images-idx3-ubyte.gz\n",
            "26427392/26421880 [==============================] - 0s 0us/step\n",
            "26435584/26421880 [==============================] - 0s 0us/step\n",
            "Downloading data from https://storage.googleapis.com/tensorflow/tf-keras-datasets/t10k-labels-idx1-ubyte.gz\n",
            "16384/5148 [===============================================================================================] - 0s 0us/step\n",
            "Downloading data from https://storage.googleapis.com/tensorflow/tf-keras-datasets/t10k-images-idx3-ubyte.gz\n",
            "4423680/4422102 [==============================] - 0s 0us/step\n",
            "4431872/4422102 [==============================] - 0s 0us/step\n"
          ]
        },
        {
          "output_type": "execute_result",
          "data": {
            "text/plain": [
              "((array([[[0, 0, 0, ..., 0, 0, 0],\n",
              "          [0, 0, 0, ..., 0, 0, 0],\n",
              "          [0, 0, 0, ..., 0, 0, 0],\n",
              "          ...,\n",
              "          [0, 0, 0, ..., 0, 0, 0],\n",
              "          [0, 0, 0, ..., 0, 0, 0],\n",
              "          [0, 0, 0, ..., 0, 0, 0]],\n",
              "  \n",
              "         [[0, 0, 0, ..., 0, 0, 0],\n",
              "          [0, 0, 0, ..., 0, 0, 0],\n",
              "          [0, 0, 0, ..., 0, 0, 0],\n",
              "          ...,\n",
              "          [0, 0, 0, ..., 0, 0, 0],\n",
              "          [0, 0, 0, ..., 0, 0, 0],\n",
              "          [0, 0, 0, ..., 0, 0, 0]],\n",
              "  \n",
              "         [[0, 0, 0, ..., 0, 0, 0],\n",
              "          [0, 0, 0, ..., 0, 0, 0],\n",
              "          [0, 0, 0, ..., 0, 0, 0],\n",
              "          ...,\n",
              "          [0, 0, 0, ..., 0, 0, 0],\n",
              "          [0, 0, 0, ..., 0, 0, 0],\n",
              "          [0, 0, 0, ..., 0, 0, 0]],\n",
              "  \n",
              "         ...,\n",
              "  \n",
              "         [[0, 0, 0, ..., 0, 0, 0],\n",
              "          [0, 0, 0, ..., 0, 0, 0],\n",
              "          [0, 0, 0, ..., 0, 0, 0],\n",
              "          ...,\n",
              "          [0, 0, 0, ..., 0, 0, 0],\n",
              "          [0, 0, 0, ..., 0, 0, 0],\n",
              "          [0, 0, 0, ..., 0, 0, 0]],\n",
              "  \n",
              "         [[0, 0, 0, ..., 0, 0, 0],\n",
              "          [0, 0, 0, ..., 0, 0, 0],\n",
              "          [0, 0, 0, ..., 0, 0, 0],\n",
              "          ...,\n",
              "          [0, 0, 0, ..., 0, 0, 0],\n",
              "          [0, 0, 0, ..., 0, 0, 0],\n",
              "          [0, 0, 0, ..., 0, 0, 0]],\n",
              "  \n",
              "         [[0, 0, 0, ..., 0, 0, 0],\n",
              "          [0, 0, 0, ..., 0, 0, 0],\n",
              "          [0, 0, 0, ..., 0, 0, 0],\n",
              "          ...,\n",
              "          [0, 0, 0, ..., 0, 0, 0],\n",
              "          [0, 0, 0, ..., 0, 0, 0],\n",
              "          [0, 0, 0, ..., 0, 0, 0]]], dtype=uint8),\n",
              "  array([9, 0, 0, ..., 3, 0, 5], dtype=uint8)),\n",
              " (array([[[0, 0, 0, ..., 0, 0, 0],\n",
              "          [0, 0, 0, ..., 0, 0, 0],\n",
              "          [0, 0, 0, ..., 0, 0, 0],\n",
              "          ...,\n",
              "          [0, 0, 0, ..., 0, 0, 0],\n",
              "          [0, 0, 0, ..., 0, 0, 0],\n",
              "          [0, 0, 0, ..., 0, 0, 0]],\n",
              "  \n",
              "         [[0, 0, 0, ..., 0, 0, 0],\n",
              "          [0, 0, 0, ..., 0, 0, 0],\n",
              "          [0, 0, 0, ..., 0, 0, 0],\n",
              "          ...,\n",
              "          [0, 0, 0, ..., 0, 0, 0],\n",
              "          [0, 0, 0, ..., 0, 0, 0],\n",
              "          [0, 0, 0, ..., 0, 0, 0]],\n",
              "  \n",
              "         [[0, 0, 0, ..., 0, 0, 0],\n",
              "          [0, 0, 0, ..., 0, 0, 0],\n",
              "          [0, 0, 0, ..., 0, 0, 0],\n",
              "          ...,\n",
              "          [0, 0, 0, ..., 0, 0, 0],\n",
              "          [0, 0, 0, ..., 0, 0, 0],\n",
              "          [0, 0, 0, ..., 0, 0, 0]],\n",
              "  \n",
              "         ...,\n",
              "  \n",
              "         [[0, 0, 0, ..., 0, 0, 0],\n",
              "          [0, 0, 0, ..., 0, 0, 0],\n",
              "          [0, 0, 0, ..., 0, 0, 0],\n",
              "          ...,\n",
              "          [0, 0, 0, ..., 0, 0, 0],\n",
              "          [0, 0, 0, ..., 0, 0, 0],\n",
              "          [0, 0, 0, ..., 0, 0, 0]],\n",
              "  \n",
              "         [[0, 0, 0, ..., 0, 0, 0],\n",
              "          [0, 0, 0, ..., 0, 0, 0],\n",
              "          [0, 0, 0, ..., 0, 0, 0],\n",
              "          ...,\n",
              "          [0, 0, 0, ..., 0, 0, 0],\n",
              "          [0, 0, 0, ..., 0, 0, 0],\n",
              "          [0, 0, 0, ..., 0, 0, 0]],\n",
              "  \n",
              "         [[0, 0, 0, ..., 0, 0, 0],\n",
              "          [0, 0, 0, ..., 0, 0, 0],\n",
              "          [0, 0, 0, ..., 0, 0, 0],\n",
              "          ...,\n",
              "          [0, 0, 0, ..., 0, 0, 0],\n",
              "          [0, 0, 0, ..., 0, 0, 0],\n",
              "          [0, 0, 0, ..., 0, 0, 0]]], dtype=uint8),\n",
              "  array([9, 2, 1, ..., 8, 1, 5], dtype=uint8)))"
            ]
          },
          "metadata": {},
          "execution_count": 3
        }
      ]
    },
    {
      "cell_type": "code",
      "metadata": {
        "id": "xyfMWOIzfwZD"
      },
      "source": [
        "fashion_mnist = keras.datasets.fashion_mnist\n",
        "(xtrain_f,ytrain_f),(xtest,ytest) = fashion_mnist.load_data()     "
      ],
      "execution_count": null,
      "outputs": []
    },
    {
      "cell_type": "code",
      "metadata": {
        "id": "Jz2M1EQOgb9u",
        "colab": {
          "base_uri": "https://localhost:8080/",
          "height": 36
        },
        "outputId": "3a4e0e53-9139-49b9-a1e5-e327d09b20f3"
      },
      "source": [
        "class_names = [\"T-shirt\",\"Trouser\",\"Pullover\",\"Dress\",\"Coat\",\"Sandal\",\"Shirt\",\"Sneaker\",\"Bag\",\"Ankle boot\"]\n",
        "class_names[ytrain_f[4]]"
      ],
      "execution_count": null,
      "outputs": [
        {
          "output_type": "execute_result",
          "data": {
            "application/vnd.google.colaboratory.intrinsic+json": {
              "type": "string"
            },
            "text/plain": [
              "'T-shirt'"
            ]
          },
          "metadata": {},
          "execution_count": 5
        }
      ]
    },
    {
      "cell_type": "code",
      "metadata": {
        "id": "UOEMSVYFP_GL"
      },
      "source": [
        "xtrain_f = xtrain_f.reshape((60000,28,28,1))\n",
        "xtest = xtest.reshape((10000,28,28,1 ))"
      ],
      "execution_count": null,
      "outputs": []
    },
    {
      "cell_type": "code",
      "metadata": {
        "id": "5GacHGSpRM2R"
      },
      "source": [
        "xtrain_n = xtrain_f/255.\n",
        "xtest_n = xtest/255."
      ],
      "execution_count": null,
      "outputs": []
    },
    {
      "cell_type": "code",
      "metadata": {
        "id": "iYmkm62lRYhB"
      },
      "source": [
        "x_valid,xtrain = xtrain_n[:5000],xtrain_n[5000:]\n",
        "y_valid,ytrain = ytrain_f[:5000],ytrain_f[5000:]\n",
        "xtest = xtest_n"
      ],
      "execution_count": null,
      "outputs": []
    },
    {
      "cell_type": "code",
      "metadata": {
        "id": "h8osxJa-SNeb"
      },
      "source": [
        "np.random.seed(50)\n",
        "tf.random.set_seed(50)"
      ],
      "execution_count": null,
      "outputs": []
    },
    {
      "cell_type": "code",
      "metadata": {
        "id": "hGC6RffBSqfg",
        "colab": {
          "base_uri": "https://localhost:8080/"
        },
        "outputId": "e0a2afd3-81e1-4b51-8637-1fbb06cc5e84"
      },
      "source": [
        "model =keras.models.Sequential()\n",
        "model.add(keras.layers.Conv2D(filters = 32, kernel_size = (4, 4), strides=1, padding = 'valid', activation = 'relu',input_shape = (28,28,1)))\n",
        "model.add(keras.layers.MaxPooling2D((2,2)))\n",
        "\n",
        "model.add(keras.layers.Flatten())\n",
        "model.add(keras.layers.Dense(300,activation=\"relu\"))\n",
        "model.add(keras.layers.Dense(100,activation=\"relu\"))\n",
        "model.add(keras.layers.Dense(10,activation=\"softmax\"))\n",
        "model.summary()"
      ],
      "execution_count": null,
      "outputs": [
        {
          "output_type": "stream",
          "name": "stdout",
          "text": [
            "Model: \"sequential\"\n",
            "_________________________________________________________________\n",
            " Layer (type)                Output Shape              Param #   \n",
            "=================================================================\n",
            " conv2d (Conv2D)             (None, 25, 25, 32)        544       \n",
            "                                                                 \n",
            " max_pooling2d (MaxPooling2D  (None, 12, 12, 32)       0         \n",
            " )                                                               \n",
            "                                                                 \n",
            " flatten (Flatten)           (None, 4608)              0         \n",
            "                                                                 \n",
            " dense (Dense)               (None, 300)               1382700   \n",
            "                                                                 \n",
            " dense_1 (Dense)             (None, 100)               30100     \n",
            "                                                                 \n",
            " dense_2 (Dense)             (None, 10)                1010      \n",
            "                                                                 \n",
            "=================================================================\n",
            "Total params: 1,414,354\n",
            "Trainable params: 1,414,354\n",
            "Non-trainable params: 0\n",
            "_________________________________________________________________\n"
          ]
        }
      ]
    },
    {
      "cell_type": "code",
      "metadata": {
        "id": "T-mfOXyqWTbQ"
      },
      "source": [
        "model.compile(loss=\"sparse_categorical_crossentropy\",\n",
        "              optimizer=\"sgd\",\n",
        "              metrics=[\"accuracy\"])"
      ],
      "execution_count": null,
      "outputs": []
    },
    {
      "cell_type": "code",
      "metadata": {
        "id": "ETs-jFe1W3ly",
        "colab": {
          "base_uri": "https://localhost:8080/"
        },
        "outputId": "55523333-492d-4a35-bf38-e6faf3a77fde"
      },
      "source": [
        "model_history = model.fit(xtrain,ytrain,epochs=20,batch_size=64,\n",
        "                    validation_data=(x_valid,y_valid))"
      ],
      "execution_count": null,
      "outputs": [
        {
          "output_type": "stream",
          "name": "stdout",
          "text": [
            "Epoch 1/20\n",
            "860/860 [==============================] - 39s 45ms/step - loss: 0.8789 - accuracy: 0.7061 - val_loss: 0.6204 - val_accuracy: 0.7646\n",
            "Epoch 2/20\n",
            "860/860 [==============================] - 31s 36ms/step - loss: 0.5483 - accuracy: 0.8005 - val_loss: 0.5692 - val_accuracy: 0.7780\n",
            "Epoch 3/20\n",
            "860/860 [==============================] - 32s 37ms/step - loss: 0.4850 - accuracy: 0.8240 - val_loss: 0.5007 - val_accuracy: 0.8188\n",
            "Epoch 4/20\n",
            "860/860 [==============================] - 32s 37ms/step - loss: 0.4465 - accuracy: 0.8394 - val_loss: 0.5344 - val_accuracy: 0.8014\n",
            "Epoch 5/20\n",
            "860/860 [==============================] - 31s 36ms/step - loss: 0.4199 - accuracy: 0.8494 - val_loss: 0.4205 - val_accuracy: 0.8494\n",
            "Epoch 6/20\n",
            "860/860 [==============================] - 31s 36ms/step - loss: 0.3945 - accuracy: 0.8590 - val_loss: 0.3824 - val_accuracy: 0.8622\n",
            "Epoch 7/20\n",
            "860/860 [==============================] - 31s 36ms/step - loss: 0.3749 - accuracy: 0.8656 - val_loss: 0.3694 - val_accuracy: 0.8712\n",
            "Epoch 8/20\n",
            "860/860 [==============================] - 31s 36ms/step - loss: 0.3607 - accuracy: 0.8688 - val_loss: 0.4543 - val_accuracy: 0.8274\n",
            "Epoch 9/20\n",
            "860/860 [==============================] - 31s 36ms/step - loss: 0.3467 - accuracy: 0.8747 - val_loss: 0.3588 - val_accuracy: 0.8702\n",
            "Epoch 10/20\n",
            "860/860 [==============================] - 31s 36ms/step - loss: 0.3354 - accuracy: 0.8775 - val_loss: 0.3366 - val_accuracy: 0.8848\n",
            "Epoch 11/20\n",
            "860/860 [==============================] - 31s 36ms/step - loss: 0.3237 - accuracy: 0.8824 - val_loss: 0.3462 - val_accuracy: 0.8804\n",
            "Epoch 12/20\n",
            "860/860 [==============================] - 31s 36ms/step - loss: 0.3135 - accuracy: 0.8866 - val_loss: 0.3543 - val_accuracy: 0.8748\n",
            "Epoch 13/20\n",
            "860/860 [==============================] - 31s 36ms/step - loss: 0.3051 - accuracy: 0.8894 - val_loss: 0.3330 - val_accuracy: 0.8828\n",
            "Epoch 14/20\n",
            "860/860 [==============================] - 31s 36ms/step - loss: 0.2977 - accuracy: 0.8921 - val_loss: 0.3477 - val_accuracy: 0.8692\n",
            "Epoch 15/20\n",
            "860/860 [==============================] - 31s 36ms/step - loss: 0.2885 - accuracy: 0.8950 - val_loss: 0.3188 - val_accuracy: 0.8908\n",
            "Epoch 16/20\n",
            "860/860 [==============================] - 31s 36ms/step - loss: 0.2821 - accuracy: 0.8973 - val_loss: 0.3115 - val_accuracy: 0.8874\n",
            "Epoch 17/20\n",
            "860/860 [==============================] - 31s 36ms/step - loss: 0.2753 - accuracy: 0.9002 - val_loss: 0.3064 - val_accuracy: 0.8922\n",
            "Epoch 18/20\n",
            "860/860 [==============================] - 31s 36ms/step - loss: 0.2690 - accuracy: 0.9021 - val_loss: 0.2883 - val_accuracy: 0.8950\n",
            "Epoch 19/20\n",
            "860/860 [==============================] - 31s 36ms/step - loss: 0.2635 - accuracy: 0.9041 - val_loss: 0.3677 - val_accuracy: 0.8682\n",
            "Epoch 20/20\n",
            "860/860 [==============================] - 31s 36ms/step - loss: 0.2569 - accuracy: 0.9064 - val_loss: 0.2989 - val_accuracy: 0.8952\n"
          ]
        }
      ]
    },
    {
      "cell_type": "code",
      "metadata": {
        "id": "ZySb6bvsXb55",
        "colab": {
          "base_uri": "https://localhost:8080/",
          "height": 324
        },
        "outputId": "53db4c2c-76e7-420d-c949-ec594520ff3c"
      },
      "source": [
        "import pandas as pd\n",
        "\n",
        "pd.DataFrame(model_history.history).plot(figsize=(8,5))\n",
        "plt.grid(True)\n",
        "plt.gca().set_ylim(0,1)\n",
        "plt.show()"
      ],
      "execution_count": null,
      "outputs": [
        {
          "output_type": "display_data",
          "data": {
            "image/png": "[encoded data removed]",
            "text/plain": [
              "<Figure size 576x360 with 1 Axes>"
            ]
          },
          "metadata": {
            "needs_background": "light"
          }
        }
      ]
    },
    {
      "cell_type": "code",
      "metadata": {
        "id": "_O3kZLjrWQ1w",
        "colab": {
          "base_uri": "https://localhost:8080/"
        },
        "outputId": "4d0a419f-d9d2-41a9-8479-63548f209dad"
      },
      "source": [
        "e = model.evaluate(xtest_n,ytest)\n",
        "e"
      ],
      "execution_count": null,
      "outputs": [
        {
          "output_type": "stream",
          "name": "stdout",
          "text": [
            "313/313 [==============================] - 2s 6ms/step - loss: 0.3143 - accuracy: 0.8869\n"
          ]
        },
        {
          "output_type": "execute_result",
          "data": {
            "text/plain": [
              "[0.3143252730369568, 0.886900007724762]"
            ]
          },
          "metadata": {},
          "execution_count": 14
        }
      ]
    },
    {
      "cell_type": "code",
      "metadata": {
        "id": "zyYWiAgabOfm"
      },
      "source": [
        "x_new = xtest[:5]"
      ],
      "execution_count": null,
      "outputs": []
    },
    {
      "cell_type": "code",
      "metadata": {
        "id": "70ZhfXcRbYep",
        "colab": {
          "base_uri": "https://localhost:8080/"
        },
        "outputId": "60fdad5f-b7ff-4af4-bfb3-90cba309e4e1"
      },
      "source": [
        "yprediction = model.predict(x_new)\n",
        "yprediction"
      ],
      "execution_count": null,
      "outputs": [
        {
          "output_type": "execute_result",
          "data": {
            "text/plain": [
              "array([[2.4819734e-05, 1.4940348e-06, 1.1772616e-05, 1.3267296e-05,\n",
              "        1.0575724e-05, 3.3412431e-03, 1.7643251e-05, 1.2414195e-02,\n",
              "        4.9839553e-04, 9.8366666e-01],\n",
              "       [5.9132188e-05, 1.5668992e-07, 9.9102235e-01, 8.8779139e-08,\n",
              "        8.4770909e-03, 6.9959443e-09, 4.4096497e-04, 4.9070144e-11,\n",
              "        1.3847367e-07, 1.6194353e-09],\n",
              "       [9.3824482e-08, 9.9998951e-01, 1.2742623e-08, 2.0374991e-06,\n",
              "        8.2330143e-06, 6.4549049e-08, 1.2631649e-08, 1.2309734e-10,\n",
              "        2.3580915e-10, 1.7357821e-10],\n",
              "       [1.0204660e-07, 9.9994397e-01, 4.6249365e-08, 3.5319830e-05,\n",
              "        2.0314355e-05, 2.6335101e-07, 7.4852807e-08, 9.0642488e-10,\n",
              "        3.9415360e-10, 5.1234874e-09],\n",
              "       [1.2604631e-01, 5.7137251e-04, 4.0155780e-02, 1.2705344e-03,\n",
              "        1.6215323e-02, 1.7869472e-05, 8.1556392e-01, 1.4625351e-05,\n",
              "        5.8906724e-05, 8.5458050e-05]], dtype=float32)"
            ]
          },
          "metadata": {},
          "execution_count": 16
        }
      ]
    },
    {
      "cell_type": "code",
      "metadata": {
        "id": "NdZMQuIFbiSm",
        "colab": {
          "base_uri": "https://localhost:8080/"
        },
        "outputId": "98077700-6382-41b9-d5fe-e04c31c8ad51"
      },
      "source": [
        "ytest[:5]"
      ],
      "execution_count": null,
      "outputs": [
        {
          "output_type": "execute_result",
          "data": {
            "text/plain": [
              "array([9, 2, 1, 1, 6], dtype=uint8)"
            ]
          },
          "metadata": {},
          "execution_count": 17
        }
      ]
    },
    {
      "cell_type": "code",
      "metadata": {
        "id": "OmvH_eHDbqdx",
        "colab": {
          "base_uri": "https://localhost:8080/",
          "height": 284
        },
        "outputId": "43a9ebd1-2f44-47cd-fd77-a7c3f723a39c"
      },
      "source": [
        "print(plt.imshow(xtest[2].reshape((28,28))))"
      ],
      "execution_count": null,
      "outputs": [
        {
          "output_type": "stream",
          "name": "stdout",
          "text": [
            "AxesImage(54,36;334.8x217.44)\n"
          ]
        },
        {
          "output_type": "display_data",
          "data": {
            "image/png": "[encoded data removed]",
            "text/plain": [
              "<Figure size 432x288 with 1 Axes>"
            ]
          },
          "metadata": {
            "needs_background": "light"
          }
        }
      ]
    },
    {
      "cell_type": "code",
      "metadata": {
        "id": "uF1xJssZcgqE",
        "colab": {
          "base_uri": "https://localhost:8080/"
        },
        "outputId": "7fc6d7f5-ada5-47ea-d611-1101a22485c4"
      },
      "source": [
        "keras.backend.clear_session"
      ],
      "execution_count": null,
      "outputs": [
        {
          "output_type": "execute_result",
          "data": {
            "text/plain": [
              "<function keras.backend.clear_session>"
            ]
          },
          "metadata": {},
          "execution_count": 19
        }
      ]
    },
    {
      "cell_type": "code",
      "metadata": {
        "id": "2-jpE_OkcopN"
      },
      "source": [
        "del model"
      ],
      "execution_count": null,
      "outputs": []
    },
    {
      "cell_type": "code",
      "metadata": {
        "id": "ZsRLNgK4cqd3"
      },
      "source": [
        ""
      ],
      "execution_count": null,
      "outputs": []
    },
    {
      "cell_type": "code",
      "metadata": {
        "id": "w_hPf37fWLVb"
      },
      "source": [
        ""
      ],
      "execution_count": null,
      "outputs": []
    },
    {
      "cell_type": "code",
      "metadata": {
        "id": "5SeGsR0SVp38"
      },
      "source": [
        ""
      ],
      "execution_count": null,
      "outputs": []
    },
    {
      "cell_type": "code",
      "metadata": {
        "id": "mlO7FEJvU9-f"
      },
      "source": [
        ""
      ],
      "execution_count": null,
      "outputs": []
    },
    {
      "cell_type": "code",
      "metadata": {
        "id": "LJEBC5H_UmgI"
      },
      "source": [
        ""
      ],
      "execution_count": null,
      "outputs": []
    },
    {
      "cell_type": "code",
      "metadata": {
        "id": "YssH3PORgmF2"
      },
      "source": [
        ""
      ],
      "execution_count": null,
      "outputs": []
    },
    {
      "cell_type": "code",
      "metadata": {
        "id": "8ESu9NYjgAKi"
      },
      "source": [
        ""
      ],
      "execution_count": null,
      "outputs": []
    },
    {
      "cell_type": "code",
      "metadata": {
        "id": "vH5cYE5zfh2H"
      },
      "source": [
        ""
      ],
      "execution_count": null,
      "outputs": []
    }
  ]
}